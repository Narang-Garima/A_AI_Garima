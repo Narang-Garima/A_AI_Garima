{
 "cells": [
  {
   "cell_type": "markdown",
   "id": "70cec02e",
   "metadata": {},
   "source": [
    "## SETUP"
   ]
  },
  {
   "cell_type": "code",
   "execution_count": 1,
   "id": "8f7ba967",
   "metadata": {},
   "outputs": [],
   "source": [
    "import os, sys\n",
    "from pathlib import Path"
   ]
  },
  {
   "cell_type": "code",
   "execution_count": 2,
   "id": "8df8599b",
   "metadata": {},
   "outputs": [],
   "source": [
    "# module path\n",
    "sys.path.append(str(Path(\".\") / \"product_info_assistant_langchain\"))"
   ]
  },
  {
   "cell_type": "code",
   "execution_count": 3,
   "id": "40a23a70",
   "metadata": {},
   "outputs": [
    {
     "name": "stderr",
     "output_type": "stream",
     "text": [
      "2025-05-29 02:35:08,212 - Project setup complete.\n"
     ]
    }
   ],
   "source": [
    "import logging\n",
    "logging.basicConfig(level=logging.INFO, format=\"%(asctime)s - %(message)s\")\n",
    "\n",
    "logging.info(\"Project setup complete.\")"
   ]
  },
  {
   "cell_type": "markdown",
   "id": "f84374eb",
   "metadata": {},
   "source": [
    "## Load API keys"
   ]
  },
  {
   "cell_type": "code",
   "execution_count": 4,
   "id": "317e57ca",
   "metadata": {},
   "outputs": [
    {
     "name": "stderr",
     "output_type": "stream",
     "text": [
      "2025-05-29 02:35:10,425 - ** API Keys loaded successfully from .env\n"
     ]
    }
   ],
   "source": [
    "from utils.API_loaders import load_api_keys\n",
    "\n",
    "try:\n",
    "    load_api_keys()\n",
    "    logging.info(\"** API Keys loaded successfully from .env\")\n",
    "except Exception as e:\n",
    "    logging.error(f\"** Failed to load API keys :{e}\")\n",
    "\n",
    "\n"
   ]
  },
  {
   "cell_type": "markdown",
   "id": "4300e0c7",
   "metadata": {},
   "source": [
    "## Build Langchain"
   ]
  },
  {
   "cell_type": "code",
   "execution_count": 6,
   "id": "050fd715",
   "metadata": {},
   "outputs": [
    {
     "name": "stderr",
     "output_type": "stream",
     "text": [
      "2025-05-29 02:35:27,250 - Chain built successfully.\n"
     ]
    }
   ],
   "source": [
    "from pipeline.chaining import create_chain\n",
    "import logging\n",
    "\n",
    "try:\n",
    "    chain = create_chain()\n",
    "    logging.info(\"Chain built successfully.\")\n",
    "except Exception as e:\n",
    "    logging.error(f\"Failed to build chain: {e}\")"
   ]
  },
  {
   "cell_type": "markdown",
   "id": "1ffa0aa9",
   "metadata": {},
   "source": [
    "## define input"
   ]
  },
  {
   "cell_type": "code",
   "execution_count": 14,
   "id": "398ce825",
   "metadata": {},
   "outputs": [
    {
     "name": "stderr",
     "output_type": "stream",
     "text": [
      "2025-05-29 02:45:09,660 - 💬 Asking question: Tell me about Samsung Galaxy S24\n"
     ]
    }
   ],
   "source": [
    "question = \"Tell me about Samsung Galaxy S24\"\n",
    "\n",
    "logging.info(f\"💬 Asking question: {question}\")"
   ]
  },
  {
   "cell_type": "markdown",
   "id": "7d3c6488",
   "metadata": {},
   "source": [
    "## Run Chain"
   ]
  },
  {
   "cell_type": "code",
   "execution_count": 15,
   "id": "a239c03b",
   "metadata": {},
   "outputs": [
    {
     "name": "stderr",
     "output_type": "stream",
     "text": [
      "2025-05-29 02:45:11,812 - HTTP Request: POST https://api.groq.com/openai/v1/chat/completions \"HTTP/1.1 200 OK\"\n",
      "2025-05-29 02:45:11,819 - Chain execution successful.\n"
     ]
    },
    {
     "name": "stdout",
     "output_type": "stream",
     "text": [
      "Product Name: Samsung Galaxy S24\n",
      "Description: The Samsung Galaxy S24 is a flagship smartphone expected to be released in early 2024. It is anticipated to feature a powerful processor, a stunning display, and advanced camera capabilities.\n",
      "Price (USD): 799.99\n"
     ]
    }
   ],
   "source": [
    "from entity.product_schema_model import ProductInfo\n",
    "from langchain_core.exceptions import OutputParserException\n",
    "\n",
    "try:\n",
    "    raw_response = chain.invoke({\"question\": question})\n",
    "    if isinstance(raw_response, dict):\n",
    "        response = ProductInfo(**raw_response)\n",
    "    else:\n",
    "        response = raw_response\n",
    "\n",
    "    # Display parsed response\n",
    "    print(\"Product Name:\", response.product_name)\n",
    "    print(\"Description:\", response.product_description)\n",
    "    print(\"Price (USD):\", response.product_price_USD)\n",
    "    logging.info(\"Chain execution successful.\")\n",
    "\n",
    "except OutputParserException as e:\n",
    "    logging.error(f\"Failed to parse output: {e}\")\n",
    "except Exception as e:\n",
    "    logging.error(f\"Error during chain execution: {e}\")"
   ]
  }
 ],
 "metadata": {
  "kernelspec": {
   "display_name": "Python 3",
   "language": "python",
   "name": "python3"
  },
  "language_info": {
   "codemirror_mode": {
    "name": "ipython",
    "version": 3
   },
   "file_extension": ".py",
   "mimetype": "text/x-python",
   "name": "python",
   "nbconvert_exporter": "python",
   "pygments_lexer": "ipython3",
   "version": "3.11.12"
  }
 },
 "nbformat": 4,
 "nbformat_minor": 5
}
